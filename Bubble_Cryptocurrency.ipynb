{
 "cells": [
  {
   "cell_type": "markdown",
   "metadata": {},
   "source": [
    "# PART 1 - SCRAPPING DATABASE FROM COINMARKETCAP.COM"
   ]
  },
  {
   "cell_type": "code",
   "execution_count": 1,
   "metadata": {},
   "outputs": [],
   "source": [
    "#Total packages used in this project\n",
    "#!pip install BeautifulSoup"
   ]
  },
  {
   "cell_type": "code",
   "execution_count": 2,
   "metadata": {},
   "outputs": [],
   "source": [
    "#Importing library\n",
    "from bs4 import BeautifulSoup\n",
    "import requests\n",
    "import lxml.html as lh\n",
    "import pandas as pd\n",
    "import numpy as np"
   ]
  },
  {
   "cell_type": "markdown",
   "metadata": {},
   "source": [
    "## Scrapped database of BITCOIN _ BTC"
   ]
  },
  {
   "cell_type": "code",
   "execution_count": 3,
   "metadata": {},
   "outputs": [],
   "source": [
    "#Importing the link of page\n",
    "link_BTC = 'https://coinmarketcap.com/currencies/bitcoin/historical-data/?start=20130428&end=20181104'\n",
    "#Fetching the content from the url by using the request library\n",
    "response_BTC = requests.get(link_BTC, timeout=5)\n",
    "#we use the html parser to parse the url content and store it in a variable.\n",
    "content_BTC = lh.fromstring(response_BTC.content, \"html.parser\")\n",
    "tr_elements_BTC = content_BTC.xpath('//tr') #Parse data that are stored between <tr>..</tr> of HTML"
   ]
  },
  {
   "cell_type": "code",
   "execution_count": 4,
   "metadata": {},
   "outputs": [
    {
     "data": {
      "text/plain": [
       "[7]"
      ]
     },
     "execution_count": 4,
     "metadata": {},
     "output_type": "execute_result"
    }
   ],
   "source": [
    "[len(T) for T in tr_elements_BTC[:1]] #Check the total column in table"
   ]
  },
  {
   "cell_type": "code",
   "execution_count": 5,
   "metadata": {},
   "outputs": [],
   "source": [
    "#Parse Table Header\n",
    "tr_elements_BTC = content_BTC.xpath('//tr')\n",
    "#Create empty list\n",
    "col=[]\n",
    "i=0\n",
    "#For each row, store each first element (header) and an empty list\n",
    "for t in tr_elements_BTC[0]:\n",
    "    i+=1\n",
    "    name=t.text_content()\n",
    "    col.append((name,[]))"
   ]
  },
  {
   "cell_type": "code",
   "execution_count": 6,
   "metadata": {},
   "outputs": [],
   "source": [
    "#The first row is the header, data will be stored on the second row onwards\n",
    "for j in range(1,len(tr_elements_BTC)):\n",
    "    #T is our j'th row\n",
    "    T=tr_elements_BTC[j]\n",
    "    \n",
    "    #If row is not of size 7, the //tr data is not from our table \n",
    "    if len(T)!=7:\n",
    "        break\n",
    "    \n",
    "   #i is the index of our column\n",
    "    i=0\n",
    "    \n",
    "    #Iterate through each element of the row\n",
    "    for t in T.iterchildren():\n",
    "        data_BTC=t.text_content() \n",
    "        #Check if row is empty\n",
    "        if i>0:\n",
    "        #Convert any numerical value to integers\n",
    "            try:\n",
    "                data_BTC=int(data_BTC)\n",
    "            except:\n",
    "                pass\n",
    "        #Append the data to the empty list of the i'th column\n",
    "        col[i][1].append(data_BTC)\n",
    "        #Increment i for the next column\n",
    "        i+=1"
   ]
  },
  {
   "cell_type": "code",
   "execution_count": 7,
   "metadata": {},
   "outputs": [
    {
     "data": {
      "text/plain": [
       "[2017, 2017, 2017, 2017, 2017, 2017, 2017]"
      ]
     },
     "execution_count": 7,
     "metadata": {},
     "output_type": "execute_result"
    }
   ],
   "source": [
    "[len(C) for (title,C) in col]"
   ]
  },
  {
   "cell_type": "code",
   "execution_count": 8,
   "metadata": {},
   "outputs": [],
   "source": [
    "Dict_BTC={title:column for (title,column) in col}\n",
    "df_BTC=pd.DataFrame(Dict_BTC)"
   ]
  },
  {
   "cell_type": "code",
   "execution_count": 9,
   "metadata": {},
   "outputs": [],
   "source": [
    "#Reversed order of dataframe\n",
    "df_BTC = df_BTC[::-1]"
   ]
  },
  {
   "cell_type": "markdown",
   "metadata": {},
   "source": [
    "In this project, only closing price is employed in the model of detecting bubble in cryptocurrency price movement, so other prices will be dropped"
   ]
  },
  {
   "cell_type": "code",
   "execution_count": 10,
   "metadata": {},
   "outputs": [],
   "source": [
    "df_BTC = df_BTC.drop(['Open*', 'High', 'Low', 'Market Cap'], axis=1)"
   ]
  },
  {
   "cell_type": "code",
   "execution_count": 11,
   "metadata": {},
   "outputs": [],
   "source": [
    "#Rename of the columns\n",
    "df_BTC = df_BTC.rename(columns = {'Close**': 'Close_BTC', 'Volume': 'Vol_BTC'})"
   ]
  },
  {
   "cell_type": "code",
   "execution_count": 12,
   "metadata": {
    "scrolled": true
   },
   "outputs": [],
   "source": [
    "# Changing and sorting the format of date in database\n",
    "df_BTC['Date'] = pd.to_datetime(df_BTC['Date'])"
   ]
  },
  {
   "cell_type": "code",
   "execution_count": 13,
   "metadata": {},
   "outputs": [],
   "source": [
    "#Notice that data in both columns use commas as a thousands separator (under American locale)\n",
    "df_BTC['Vol_BTC'] = df_BTC['Vol_BTC'].str.replace('-', '0')\n",
    "df_BTC['Vol_BTC'] = df_BTC['Vol_BTC'].str.replace(',', '')"
   ]
  },
  {
   "cell_type": "code",
   "execution_count": 14,
   "metadata": {},
   "outputs": [],
   "source": [
    "#Converting the types of data from 'object' to 'float'\n",
    "df_BTC.iloc[:, 1:] = df_BTC.iloc[:, 1:].astype('float')"
   ]
  },
  {
   "cell_type": "code",
   "execution_count": 15,
   "metadata": {},
   "outputs": [
    {
     "data": {
      "text/plain": [
       "Date         datetime64[ns]\n",
       "Close_BTC           float64\n",
       "Vol_BTC             float64\n",
       "dtype: object"
      ]
     },
     "execution_count": 15,
     "metadata": {},
     "output_type": "execute_result"
    }
   ],
   "source": [
    "#List the types of data in df_clean\n",
    "df_BTC.dtypes"
   ]
  },
  {
   "cell_type": "code",
   "execution_count": 16,
   "metadata": {},
   "outputs": [
    {
     "data": {
      "text/html": [
       "<div>\n",
       "<style scoped>\n",
       "    .dataframe tbody tr th:only-of-type {\n",
       "        vertical-align: middle;\n",
       "    }\n",
       "\n",
       "    .dataframe tbody tr th {\n",
       "        vertical-align: top;\n",
       "    }\n",
       "\n",
       "    .dataframe thead th {\n",
       "        text-align: right;\n",
       "    }\n",
       "</style>\n",
       "<table border=\"1\" class=\"dataframe\">\n",
       "  <thead>\n",
       "    <tr style=\"text-align: right;\">\n",
       "      <th></th>\n",
       "      <th>Date</th>\n",
       "      <th>Close_BTC</th>\n",
       "      <th>Vol_BTC</th>\n",
       "    </tr>\n",
       "  </thead>\n",
       "  <tbody>\n",
       "    <tr>\n",
       "      <th>2016</th>\n",
       "      <td>2013-04-28</td>\n",
       "      <td>134.21</td>\n",
       "      <td>0.0</td>\n",
       "    </tr>\n",
       "    <tr>\n",
       "      <th>2015</th>\n",
       "      <td>2013-04-29</td>\n",
       "      <td>144.54</td>\n",
       "      <td>0.0</td>\n",
       "    </tr>\n",
       "    <tr>\n",
       "      <th>2014</th>\n",
       "      <td>2013-04-30</td>\n",
       "      <td>139.00</td>\n",
       "      <td>0.0</td>\n",
       "    </tr>\n",
       "    <tr>\n",
       "      <th>2013</th>\n",
       "      <td>2013-05-01</td>\n",
       "      <td>116.99</td>\n",
       "      <td>0.0</td>\n",
       "    </tr>\n",
       "    <tr>\n",
       "      <th>2012</th>\n",
       "      <td>2013-05-02</td>\n",
       "      <td>105.21</td>\n",
       "      <td>0.0</td>\n",
       "    </tr>\n",
       "  </tbody>\n",
       "</table>\n",
       "</div>"
      ],
      "text/plain": [
       "           Date  Close_BTC  Vol_BTC\n",
       "2016 2013-04-28     134.21      0.0\n",
       "2015 2013-04-29     144.54      0.0\n",
       "2014 2013-04-30     139.00      0.0\n",
       "2013 2013-05-01     116.99      0.0\n",
       "2012 2013-05-02     105.21      0.0"
      ]
     },
     "execution_count": 16,
     "metadata": {},
     "output_type": "execute_result"
    }
   ],
   "source": [
    "df_BTC.head()"
   ]
  },
  {
   "cell_type": "markdown",
   "metadata": {},
   "source": [
    "In this project, we choose total 3 top ranked cryptocurrencies including Bitcoin (BTC), Ethereum (ETH) and Ripple (XRP) to analyse the price movements and its relationship between the prices and its trading volumes, also its capitalization to answer the question of whether speculative bubbles exists in the cryptocurrencies market.\n",
    "\n",
    "Similarly, both database of ETH and XRP are also scrapped in the folling parts."
   ]
  },
  {
   "cell_type": "markdown",
   "metadata": {},
   "source": [
    "## Scrapped database of ETHEREUM _ ETH"
   ]
  },
  {
   "cell_type": "code",
   "execution_count": 17,
   "metadata": {},
   "outputs": [],
   "source": [
    "#Importing the link of page\n",
    "link_ETH = 'https://coinmarketcap.com/currencies/ethereum/historical-data/?start=20130428&end=20181104'\n",
    "#Fetching the content from the url by using the request library\n",
    "response_ETH = requests.get(link_ETH, timeout=5)\n",
    "#we use the html parser to parse the url content and store it in a variable.\n",
    "content_ETH = lh.fromstring(response_ETH.content, \"html.parser\")\n",
    "tr_elements_ETH = content_ETH.xpath('//tr') #Parse data that are stored between <tr>..</tr> of HTML\n",
    "\n",
    "#Parse Table Header\n",
    "tr_elements_ETH = content_ETH.xpath('//tr')\n",
    "#Create empty list\n",
    "col=[]\n",
    "i=0\n",
    "#For each row, store each first element (header) and an empty list\n",
    "for t in tr_elements_ETH[0]:\n",
    "    i+=1\n",
    "    name=t.text_content()\n",
    "    col.append((name,[]))\n",
    "    \n",
    "#The first row is the header, data will be stored on the second row onwards\n",
    "for j in range(1,len(tr_elements_ETH)):\n",
    "    #T is our j'th row\n",
    "    T=tr_elements_ETH[j]\n",
    "    \n",
    "    #If row is not of size 7, the //tr data is not from our table \n",
    "    if len(T)!=7:\n",
    "        break\n",
    "    \n",
    "   #i is the index of our column\n",
    "    i=0\n",
    "    \n",
    "    #Iterate through each element of the row\n",
    "    for t in T.iterchildren():\n",
    "        data_ETH=t.text_content() \n",
    "        #Check if row is empty\n",
    "        if i>0:\n",
    "        #Convert any numerical value to integers\n",
    "            try:\n",
    "                data_ETH=int(data_ETH)\n",
    "            except:\n",
    "                pass\n",
    "        #Append the data to the empty list of the i'th column\n",
    "        col[i][1].append(data_ETH)\n",
    "        #Increment i for the next column\n",
    "        i+=1\n",
    "\n",
    "Dict_ETH = {title:column for (title,column) in col}\n",
    "df_ETH = pd.DataFrame(Dict_ETH)"
   ]
  },
  {
   "cell_type": "code",
   "execution_count": 18,
   "metadata": {},
   "outputs": [],
   "source": [
    "#Reversed order of dataframe\n",
    "df_ETH = df_ETH[::-1]"
   ]
  },
  {
   "cell_type": "code",
   "execution_count": 19,
   "metadata": {},
   "outputs": [],
   "source": [
    "#Dropping column of prices in Ethereum database\n",
    "df_ETH = df_ETH.drop(['Open*', 'High', 'Low', 'Market Cap'], axis=1)\n",
    "\n",
    "#Rename of the columns\n",
    "df_ETH = df_ETH.rename(columns = {'Close**': 'Close_ETH', 'Volume':'Vol_ETH'})"
   ]
  },
  {
   "cell_type": "code",
   "execution_count": 20,
   "metadata": {},
   "outputs": [],
   "source": [
    "# Changing and sorting the format of date in database\n",
    "df_ETH['Date'] = pd.to_datetime(df_ETH['Date'])"
   ]
  },
  {
   "cell_type": "code",
   "execution_count": 21,
   "metadata": {},
   "outputs": [],
   "source": [
    "#Notice that data in both columns use commas as a thousands separator (under American locale)\n",
    "df_ETH['Vol_ETH'] = df_ETH['Vol_ETH'].str.replace('-', '0')\n",
    "df_ETH['Vol_ETH'] = df_ETH['Vol_ETH'].str.replace(',', '')"
   ]
  },
  {
   "cell_type": "code",
   "execution_count": 22,
   "metadata": {},
   "outputs": [],
   "source": [
    "#Converting the types of data from 'object' to 'float'\n",
    "df_ETH.iloc[:, 1:] = df_ETH.iloc[:, 1:].astype('float')"
   ]
  },
  {
   "cell_type": "code",
   "execution_count": 23,
   "metadata": {},
   "outputs": [
    {
     "data": {
      "text/plain": [
       "Date         datetime64[ns]\n",
       "Close_ETH           float64\n",
       "Vol_ETH             float64\n",
       "dtype: object"
      ]
     },
     "execution_count": 23,
     "metadata": {},
     "output_type": "execute_result"
    }
   ],
   "source": [
    "df_ETH.dtypes"
   ]
  },
  {
   "cell_type": "markdown",
   "metadata": {},
   "source": [
    "## Scrapped Database of Ripple _ XRP"
   ]
  },
  {
   "cell_type": "code",
   "execution_count": 24,
   "metadata": {},
   "outputs": [],
   "source": [
    "#Importing the link of page\n",
    "link_XRP = 'https://coinmarketcap.com/currencies/ripple/historical-data/?start=20130428&end=20181104'\n",
    "#Fetching the content from the url by using the request library\n",
    "response_XRP = requests.get(link_XRP, timeout=5)\n",
    "#we use the html parser to parse the url content and store it in a variable.\n",
    "content_XRP = lh.fromstring(response_XRP.content, \"html.parser\")\n",
    "tr_elements_XRP = content_XRP.xpath('//tr') #Parse data that are stored between <tr>..</tr> of HTML\n",
    "\n",
    "#Parse Table Header\n",
    "tr_elements_XRP = content_XRP.xpath('//tr')\n",
    "#Create empty list\n",
    "col=[]\n",
    "i=0\n",
    "#For each row, store each first element (header) and an empty list\n",
    "for t in tr_elements_XRP[0]:\n",
    "    i+=1\n",
    "    name=t.text_content()\n",
    "    col.append((name,[]))\n",
    "    \n",
    "#The first row is the header, data will be stored on the second row onwards\n",
    "for j in range(1,len(tr_elements_XRP)):\n",
    "    #T is our j'th row\n",
    "    T=tr_elements_XRP[j]\n",
    "    \n",
    "    #If row is not of size 7, the //tr data is not from our table \n",
    "    if len(T)!=7:\n",
    "        break\n",
    "    \n",
    "   #i is the index of our column\n",
    "    i=0\n",
    "    \n",
    "    #Iterate through each element of the row\n",
    "    for t in T.iterchildren():\n",
    "        data_XRP = t.text_content() \n",
    "        #Check if row is empty\n",
    "        if i>0:\n",
    "        #Convert any numerical value to integers\n",
    "            try:\n",
    "                data_XRP=int(data_XRP)\n",
    "            except:\n",
    "                pass\n",
    "        #Append the data to the empty list of the i'th column\n",
    "        col[i][1].append(data_XRP)\n",
    "        #Increment i for the next column\n",
    "        i+=1\n",
    "\n",
    "Dict_XRP = {title:column for (title,column) in col}\n",
    "df_XRP = pd.DataFrame(Dict_XRP)"
   ]
  },
  {
   "cell_type": "code",
   "execution_count": 25,
   "metadata": {},
   "outputs": [],
   "source": [
    "#Reversed order of dataframe\n",
    "df_XRP = df_XRP[::-1]"
   ]
  },
  {
   "cell_type": "code",
   "execution_count": 26,
   "metadata": {},
   "outputs": [],
   "source": [
    "#Dropping column of prices in Ethereum database\n",
    "df_XRP = df_XRP.drop(['Open*', 'High', 'Low', 'Market Cap'], axis=1)"
   ]
  },
  {
   "cell_type": "code",
   "execution_count": 27,
   "metadata": {},
   "outputs": [],
   "source": [
    "#Rename of the columns\n",
    "df_XRP = df_XRP.rename(columns = {'Close**': 'Close_XRP', 'Volume':'Vol_XRP'})"
   ]
  },
  {
   "cell_type": "code",
   "execution_count": 28,
   "metadata": {},
   "outputs": [],
   "source": [
    "# Changing and sorting the format of date in database\n",
    "df_XRP['Date'] = pd.to_datetime(df_XRP['Date'])"
   ]
  },
  {
   "cell_type": "code",
   "execution_count": 29,
   "metadata": {},
   "outputs": [],
   "source": [
    "#Notice that data in both columns use commas as a thousands separator (under American locale)\n",
    "df_XRP['Vol_XRP'] = df_XRP['Vol_XRP'].str.replace('-', '0')\n",
    "df_XRP['Vol_XRP'] = df_XRP['Vol_XRP'].str.replace(',', '')"
   ]
  },
  {
   "cell_type": "code",
   "execution_count": 30,
   "metadata": {},
   "outputs": [],
   "source": [
    "#Converting the types of data from 'object' to 'float'\n",
    "df_XRP.iloc[:, 1:] = df_XRP.iloc[:, 1:].astype('float')"
   ]
  },
  {
   "cell_type": "markdown",
   "metadata": {},
   "source": [
    "# PART 2 - CONSOLIDATING AND CLEANING DATA"
   ]
  },
  {
   "cell_type": "markdown",
   "metadata": {},
   "source": [
    "## Merging dataframes"
   ]
  },
  {
   "cell_type": "code",
   "execution_count": 31,
   "metadata": {
    "scrolled": true
   },
   "outputs": [
    {
     "data": {
      "text/html": [
       "<div>\n",
       "<style scoped>\n",
       "    .dataframe tbody tr th:only-of-type {\n",
       "        vertical-align: middle;\n",
       "    }\n",
       "\n",
       "    .dataframe tbody tr th {\n",
       "        vertical-align: top;\n",
       "    }\n",
       "\n",
       "    .dataframe thead th {\n",
       "        text-align: right;\n",
       "    }\n",
       "</style>\n",
       "<table border=\"1\" class=\"dataframe\">\n",
       "  <thead>\n",
       "    <tr style=\"text-align: right;\">\n",
       "      <th></th>\n",
       "      <th>Date</th>\n",
       "      <th>Close_BTC</th>\n",
       "      <th>Vol_BTC</th>\n",
       "      <th>Close_ETH</th>\n",
       "      <th>Vol_ETH</th>\n",
       "      <th>Close_XRP</th>\n",
       "      <th>Vol_XRP</th>\n",
       "    </tr>\n",
       "  </thead>\n",
       "  <tbody>\n",
       "    <tr>\n",
       "      <th>0</th>\n",
       "      <td>2013-04-28</td>\n",
       "      <td>134.21</td>\n",
       "      <td>0.0</td>\n",
       "      <td>NaN</td>\n",
       "      <td>NaN</td>\n",
       "      <td>NaN</td>\n",
       "      <td>NaN</td>\n",
       "    </tr>\n",
       "    <tr>\n",
       "      <th>1</th>\n",
       "      <td>2013-04-29</td>\n",
       "      <td>144.54</td>\n",
       "      <td>0.0</td>\n",
       "      <td>NaN</td>\n",
       "      <td>NaN</td>\n",
       "      <td>NaN</td>\n",
       "      <td>NaN</td>\n",
       "    </tr>\n",
       "    <tr>\n",
       "      <th>2</th>\n",
       "      <td>2013-04-30</td>\n",
       "      <td>139.00</td>\n",
       "      <td>0.0</td>\n",
       "      <td>NaN</td>\n",
       "      <td>NaN</td>\n",
       "      <td>NaN</td>\n",
       "      <td>NaN</td>\n",
       "    </tr>\n",
       "    <tr>\n",
       "      <th>3</th>\n",
       "      <td>2013-05-01</td>\n",
       "      <td>116.99</td>\n",
       "      <td>0.0</td>\n",
       "      <td>NaN</td>\n",
       "      <td>NaN</td>\n",
       "      <td>NaN</td>\n",
       "      <td>NaN</td>\n",
       "    </tr>\n",
       "    <tr>\n",
       "      <th>4</th>\n",
       "      <td>2013-05-02</td>\n",
       "      <td>105.21</td>\n",
       "      <td>0.0</td>\n",
       "      <td>NaN</td>\n",
       "      <td>NaN</td>\n",
       "      <td>NaN</td>\n",
       "      <td>NaN</td>\n",
       "    </tr>\n",
       "  </tbody>\n",
       "</table>\n",
       "</div>"
      ],
      "text/plain": [
       "        Date  Close_BTC  Vol_BTC  Close_ETH  Vol_ETH  Close_XRP  Vol_XRP\n",
       "0 2013-04-28     134.21      0.0        NaN      NaN        NaN      NaN\n",
       "1 2013-04-29     144.54      0.0        NaN      NaN        NaN      NaN\n",
       "2 2013-04-30     139.00      0.0        NaN      NaN        NaN      NaN\n",
       "3 2013-05-01     116.99      0.0        NaN      NaN        NaN      NaN\n",
       "4 2013-05-02     105.21      0.0        NaN      NaN        NaN      NaN"
      ]
     },
     "execution_count": 31,
     "metadata": {},
     "output_type": "execute_result"
    }
   ],
   "source": [
    "df_merge = pd.merge(df_BTC, df_ETH, how = 'outer', on = 'Date')\n",
    "df_merge = pd.merge(df_merge, df_XRP, how = 'outer', on = 'Date')\n",
    "df_merge.head()"
   ]
  },
  {
   "cell_type": "code",
   "execution_count": 32,
   "metadata": {},
   "outputs": [
    {
     "data": {
      "text/plain": [
       "Date           0\n",
       "Close_BTC      0\n",
       "Vol_BTC        0\n",
       "Close_ETH    831\n",
       "Vol_ETH      831\n",
       "Close_XRP     98\n",
       "Vol_XRP       98\n",
       "dtype: int64"
      ]
     },
     "execution_count": 32,
     "metadata": {},
     "output_type": "execute_result"
    }
   ],
   "source": [
    "#Counting missing values\n",
    "df_merge.isnull().sum()"
   ]
  },
  {
   "cell_type": "markdown",
   "metadata": {},
   "source": [
    "## Calculating the logarithmic return of cryptocurrencies"
   ]
  },
  {
   "cell_type": "code",
   "execution_count": 33,
   "metadata": {},
   "outputs": [],
   "source": [
    "#Creating list of currencies\n",
    "currency = ['BTC', 'ETH', 'XRP']"
   ]
  },
  {
   "cell_type": "code",
   "execution_count": 34,
   "metadata": {},
   "outputs": [],
   "source": [
    "#Creating new variable of logarithmic return of each currencies\n",
    "for i in currency:\n",
    "    df_merge['RET_' + str(i)] = np.log(df_merge['Close_' + str(i)]).diff()"
   ]
  },
  {
   "cell_type": "code",
   "execution_count": 35,
   "metadata": {},
   "outputs": [],
   "source": [
    "df_merge['RET_BTC'] = np.log(df_merge.Close_BTC) - np.log(df_merge.Close_BTC.shift(1))"
   ]
  },
  {
   "cell_type": "markdown",
   "metadata": {},
   "source": [
    "## Dropping missing values in merged database"
   ]
  },
  {
   "cell_type": "code",
   "execution_count": 36,
   "metadata": {},
   "outputs": [
    {
     "data": {
      "text/plain": [
       "Date         0\n",
       "Close_BTC    0\n",
       "Vol_BTC      0\n",
       "Close_ETH    0\n",
       "Vol_ETH      0\n",
       "Close_XRP    0\n",
       "Vol_XRP      0\n",
       "RET_BTC      0\n",
       "RET_ETH      0\n",
       "RET_XRP      0\n",
       "dtype: int64"
      ]
     },
     "execution_count": 36,
     "metadata": {},
     "output_type": "execute_result"
    }
   ],
   "source": [
    "#Dropping missing values \n",
    "df_drop = df_merge.dropna()\n",
    "df_drop.isnull().sum()"
   ]
  },
  {
   "cell_type": "markdown",
   "metadata": {},
   "source": [
    "# PART 3 - DESCRIPTIVE STATISTICS"
   ]
  },
  {
   "cell_type": "code",
   "execution_count": 37,
   "metadata": {},
   "outputs": [],
   "source": [
    "import numpy as np\n",
    "from pandas import DataFrame as df\n",
    "from scipy.stats import trim_mean, kurtosis\n",
    "from scipy.stats.mstats import mode, gmean, hmean"
   ]
  },
  {
   "cell_type": "code",
   "execution_count": 38,
   "metadata": {},
   "outputs": [
    {
     "data": {
      "text/html": [
       "<div>\n",
       "<style scoped>\n",
       "    .dataframe tbody tr th:only-of-type {\n",
       "        vertical-align: middle;\n",
       "    }\n",
       "\n",
       "    .dataframe tbody tr th {\n",
       "        vertical-align: top;\n",
       "    }\n",
       "\n",
       "    .dataframe thead th {\n",
       "        text-align: right;\n",
       "    }\n",
       "</style>\n",
       "<table border=\"1\" class=\"dataframe\">\n",
       "  <thead>\n",
       "    <tr style=\"text-align: right;\">\n",
       "      <th></th>\n",
       "      <th>Close_BTC</th>\n",
       "      <th>Vol_BTC</th>\n",
       "      <th>Close_ETH</th>\n",
       "      <th>Vol_ETH</th>\n",
       "      <th>Close_XRP</th>\n",
       "      <th>Vol_XRP</th>\n",
       "      <th>RET_BTC</th>\n",
       "      <th>RET_ETH</th>\n",
       "      <th>RET_XRP</th>\n",
       "    </tr>\n",
       "  </thead>\n",
       "  <tbody>\n",
       "    <tr>\n",
       "      <th>count</th>\n",
       "      <td>2017.000000</td>\n",
       "      <td>2.017000e+03</td>\n",
       "      <td>1186.000000</td>\n",
       "      <td>1.186000e+03</td>\n",
       "      <td>1919.000000</td>\n",
       "      <td>1.919000e+03</td>\n",
       "      <td>2016.000000</td>\n",
       "      <td>1185.000000</td>\n",
       "      <td>1918.000000</td>\n",
       "    </tr>\n",
       "    <tr>\n",
       "      <th>mean</th>\n",
       "      <td>2249.892900</td>\n",
       "      <td>1.400571e+09</td>\n",
       "      <td>214.404359</td>\n",
       "      <td>8.289993e+08</td>\n",
       "      <td>0.159703</td>\n",
       "      <td>1.906031e+08</td>\n",
       "      <td>0.001915</td>\n",
       "      <td>0.003642</td>\n",
       "      <td>0.002276</td>\n",
       "    </tr>\n",
       "    <tr>\n",
       "      <th>std</th>\n",
       "      <td>3441.235413</td>\n",
       "      <td>3.024913e+09</td>\n",
       "      <td>280.824974</td>\n",
       "      <td>1.244838e+09</td>\n",
       "      <td>0.343372</td>\n",
       "      <td>6.874671e+08</td>\n",
       "      <td>0.043714</td>\n",
       "      <td>0.078578</td>\n",
       "      <td>0.078177</td>\n",
       "    </tr>\n",
       "    <tr>\n",
       "      <th>min</th>\n",
       "      <td>68.430000</td>\n",
       "      <td>0.000000e+00</td>\n",
       "      <td>0.434829</td>\n",
       "      <td>1.021280e+05</td>\n",
       "      <td>0.002810</td>\n",
       "      <td>0.000000e+00</td>\n",
       "      <td>-0.266198</td>\n",
       "      <td>-1.302106</td>\n",
       "      <td>-0.616273</td>\n",
       "    </tr>\n",
       "    <tr>\n",
       "      <th>25%</th>\n",
       "      <td>319.010000</td>\n",
       "      <td>1.859730e+07</td>\n",
       "      <td>9.872500</td>\n",
       "      <td>9.131382e+06</td>\n",
       "      <td>0.006286</td>\n",
       "      <td>2.682425e+05</td>\n",
       "      <td>-0.012273</td>\n",
       "      <td>-0.026619</td>\n",
       "      <td>-0.023358</td>\n",
       "    </tr>\n",
       "    <tr>\n",
       "      <th>50%</th>\n",
       "      <td>592.940000</td>\n",
       "      <td>5.662510e+07</td>\n",
       "      <td>43.330000</td>\n",
       "      <td>8.255090e+07</td>\n",
       "      <td>0.008479</td>\n",
       "      <td>8.513260e+05</td>\n",
       "      <td>0.001944</td>\n",
       "      <td>-0.000857</td>\n",
       "      <td>-0.002836</td>\n",
       "    </tr>\n",
       "    <tr>\n",
       "      <th>75%</th>\n",
       "      <td>2506.470000</td>\n",
       "      <td>1.094950e+09</td>\n",
       "      <td>332.272500</td>\n",
       "      <td>1.470675e+09</td>\n",
       "      <td>0.201322</td>\n",
       "      <td>1.027810e+08</td>\n",
       "      <td>0.018559</td>\n",
       "      <td>0.031764</td>\n",
       "      <td>0.021177</td>\n",
       "    </tr>\n",
       "    <tr>\n",
       "      <th>max</th>\n",
       "      <td>19497.400000</td>\n",
       "      <td>2.384090e+10</td>\n",
       "      <td>1396.420000</td>\n",
       "      <td>9.214950e+09</td>\n",
       "      <td>3.380000</td>\n",
       "      <td>9.110440e+09</td>\n",
       "      <td>0.357451</td>\n",
       "      <td>0.412337</td>\n",
       "      <td>1.027356</td>\n",
       "    </tr>\n",
       "  </tbody>\n",
       "</table>\n",
       "</div>"
      ],
      "text/plain": [
       "          Close_BTC       Vol_BTC    Close_ETH       Vol_ETH    Close_XRP  \\\n",
       "count   2017.000000  2.017000e+03  1186.000000  1.186000e+03  1919.000000   \n",
       "mean    2249.892900  1.400571e+09   214.404359  8.289993e+08     0.159703   \n",
       "std     3441.235413  3.024913e+09   280.824974  1.244838e+09     0.343372   \n",
       "min       68.430000  0.000000e+00     0.434829  1.021280e+05     0.002810   \n",
       "25%      319.010000  1.859730e+07     9.872500  9.131382e+06     0.006286   \n",
       "50%      592.940000  5.662510e+07    43.330000  8.255090e+07     0.008479   \n",
       "75%     2506.470000  1.094950e+09   332.272500  1.470675e+09     0.201322   \n",
       "max    19497.400000  2.384090e+10  1396.420000  9.214950e+09     3.380000   \n",
       "\n",
       "            Vol_XRP      RET_BTC      RET_ETH      RET_XRP  \n",
       "count  1.919000e+03  2016.000000  1185.000000  1918.000000  \n",
       "mean   1.906031e+08     0.001915     0.003642     0.002276  \n",
       "std    6.874671e+08     0.043714     0.078578     0.078177  \n",
       "min    0.000000e+00    -0.266198    -1.302106    -0.616273  \n",
       "25%    2.682425e+05    -0.012273    -0.026619    -0.023358  \n",
       "50%    8.513260e+05     0.001944    -0.000857    -0.002836  \n",
       "75%    1.027810e+08     0.018559     0.031764     0.021177  \n",
       "max    9.110440e+09     0.357451     0.412337     1.027356  "
      ]
     },
     "execution_count": 38,
     "metadata": {},
     "output_type": "execute_result"
    }
   ],
   "source": [
    "#Raw database\n",
    "df_merge.describe()"
   ]
  },
  {
   "cell_type": "code",
   "execution_count": 39,
   "metadata": {
    "scrolled": true
   },
   "outputs": [
    {
     "data": {
      "text/html": [
       "<div>\n",
       "<style scoped>\n",
       "    .dataframe tbody tr th:only-of-type {\n",
       "        vertical-align: middle;\n",
       "    }\n",
       "\n",
       "    .dataframe tbody tr th {\n",
       "        vertical-align: top;\n",
       "    }\n",
       "\n",
       "    .dataframe thead th {\n",
       "        text-align: right;\n",
       "    }\n",
       "</style>\n",
       "<table border=\"1\" class=\"dataframe\">\n",
       "  <thead>\n",
       "    <tr style=\"text-align: right;\">\n",
       "      <th></th>\n",
       "      <th>Close_BTC</th>\n",
       "      <th>Vol_BTC</th>\n",
       "      <th>Close_ETH</th>\n",
       "      <th>Vol_ETH</th>\n",
       "      <th>Close_XRP</th>\n",
       "      <th>Vol_XRP</th>\n",
       "      <th>RET_BTC</th>\n",
       "      <th>RET_ETH</th>\n",
       "      <th>RET_XRP</th>\n",
       "    </tr>\n",
       "  </thead>\n",
       "  <tbody>\n",
       "    <tr>\n",
       "      <th>count</th>\n",
       "      <td>1185.000000</td>\n",
       "      <td>1.185000e+03</td>\n",
       "      <td>1185.000000</td>\n",
       "      <td>1.185000e+03</td>\n",
       "      <td>1185.000000</td>\n",
       "      <td>1.185000e+03</td>\n",
       "      <td>1185.000000</td>\n",
       "      <td>1185.000000</td>\n",
       "      <td>1185.000000</td>\n",
       "    </tr>\n",
       "    <tr>\n",
       "      <th>mean</th>\n",
       "      <td>3567.036996</td>\n",
       "      <td>2.371183e+09</td>\n",
       "      <td>214.582953</td>\n",
       "      <td>8.296987e+08</td>\n",
       "      <td>0.251990</td>\n",
       "      <td>3.083827e+08</td>\n",
       "      <td>0.002639</td>\n",
       "      <td>0.003642</td>\n",
       "      <td>0.003408</td>\n",
       "    </tr>\n",
       "    <tr>\n",
       "      <th>std</th>\n",
       "      <td>3989.825284</td>\n",
       "      <td>3.646072e+09</td>\n",
       "      <td>280.876151</td>\n",
       "      <td>1.245130e+09</td>\n",
       "      <td>0.410702</td>\n",
       "      <td>8.539902e+08</td>\n",
       "      <td>0.039590</td>\n",
       "      <td>0.078578</td>\n",
       "      <td>0.076730</td>\n",
       "    </tr>\n",
       "    <tr>\n",
       "      <th>min</th>\n",
       "      <td>210.490000</td>\n",
       "      <td>1.271260e+07</td>\n",
       "      <td>0.434829</td>\n",
       "      <td>1.021280e+05</td>\n",
       "      <td>0.004090</td>\n",
       "      <td>2.481900e+04</td>\n",
       "      <td>-0.207530</td>\n",
       "      <td>-1.302106</td>\n",
       "      <td>-0.616273</td>\n",
       "    </tr>\n",
       "    <tr>\n",
       "      <th>25%</th>\n",
       "      <td>531.390000</td>\n",
       "      <td>6.880780e+07</td>\n",
       "      <td>9.880000</td>\n",
       "      <td>9.166430e+06</td>\n",
       "      <td>0.006490</td>\n",
       "      <td>7.505330e+05</td>\n",
       "      <td>-0.009418</td>\n",
       "      <td>-0.026619</td>\n",
       "      <td>-0.021087</td>\n",
       "    </tr>\n",
       "    <tr>\n",
       "      <th>50%</th>\n",
       "      <td>1172.520000</td>\n",
       "      <td>3.036680e+08</td>\n",
       "      <td>43.390000</td>\n",
       "      <td>8.362710e+07</td>\n",
       "      <td>0.009116</td>\n",
       "      <td>6.333250e+06</td>\n",
       "      <td>0.002645</td>\n",
       "      <td>-0.000857</td>\n",
       "      <td>-0.003548</td>\n",
       "    </tr>\n",
       "    <tr>\n",
       "      <th>75%</th>\n",
       "      <td>6529.170000</td>\n",
       "      <td>3.966230e+09</td>\n",
       "      <td>332.390000</td>\n",
       "      <td>1.470740e+09</td>\n",
       "      <td>0.336903</td>\n",
       "      <td>2.582980e+08</td>\n",
       "      <td>0.018029</td>\n",
       "      <td>0.031764</td>\n",
       "      <td>0.018576</td>\n",
       "    </tr>\n",
       "    <tr>\n",
       "      <th>max</th>\n",
       "      <td>19497.400000</td>\n",
       "      <td>2.384090e+10</td>\n",
       "      <td>1396.420000</td>\n",
       "      <td>9.214950e+09</td>\n",
       "      <td>3.380000</td>\n",
       "      <td>9.110440e+09</td>\n",
       "      <td>0.225119</td>\n",
       "      <td>0.412337</td>\n",
       "      <td>1.027356</td>\n",
       "    </tr>\n",
       "  </tbody>\n",
       "</table>\n",
       "</div>"
      ],
      "text/plain": [
       "          Close_BTC       Vol_BTC    Close_ETH       Vol_ETH    Close_XRP  \\\n",
       "count   1185.000000  1.185000e+03  1185.000000  1.185000e+03  1185.000000   \n",
       "mean    3567.036996  2.371183e+09   214.582953  8.296987e+08     0.251990   \n",
       "std     3989.825284  3.646072e+09   280.876151  1.245130e+09     0.410702   \n",
       "min      210.490000  1.271260e+07     0.434829  1.021280e+05     0.004090   \n",
       "25%      531.390000  6.880780e+07     9.880000  9.166430e+06     0.006490   \n",
       "50%     1172.520000  3.036680e+08    43.390000  8.362710e+07     0.009116   \n",
       "75%     6529.170000  3.966230e+09   332.390000  1.470740e+09     0.336903   \n",
       "max    19497.400000  2.384090e+10  1396.420000  9.214950e+09     3.380000   \n",
       "\n",
       "            Vol_XRP      RET_BTC      RET_ETH      RET_XRP  \n",
       "count  1.185000e+03  1185.000000  1185.000000  1185.000000  \n",
       "mean   3.083827e+08     0.002639     0.003642     0.003408  \n",
       "std    8.539902e+08     0.039590     0.078578     0.076730  \n",
       "min    2.481900e+04    -0.207530    -1.302106    -0.616273  \n",
       "25%    7.505330e+05    -0.009418    -0.026619    -0.021087  \n",
       "50%    6.333250e+06     0.002645    -0.000857    -0.003548  \n",
       "75%    2.582980e+08     0.018029     0.031764     0.018576  \n",
       "max    9.110440e+09     0.225119     0.412337     1.027356  "
      ]
     },
     "execution_count": 39,
     "metadata": {},
     "output_type": "execute_result"
    }
   ],
   "source": [
    "#Clean database\n",
    "df_drop.describe()"
   ]
  },
  {
   "cell_type": "code",
   "execution_count": 40,
   "metadata": {},
   "outputs": [],
   "source": [
    "#Plotting histogram of Log_return of each currencies\n",
    "import numpy as np\n",
    "import matplotlib.pyplot as plt\n",
    "from scipy.stats import norm"
   ]
  },
  {
   "cell_type": "code",
   "execution_count": 41,
   "metadata": {
    "scrolled": true
   },
   "outputs": [
    {
     "data": {
      "image/png": "[encoded data removed]",
      "text/plain": [
       "<Figure size 432x288 with 3 Axes>"
      ]
     },
     "metadata": {},
     "output_type": "display_data"
    }
   ],
   "source": [
    "hist = plt.figure()\n",
    "hist.suptitle(\"Histogram of logarithmic crypto-coins return\", fontsize=16)\n",
    "ax1 = hist.add_subplot(221)\n",
    "ax2 = hist.add_subplot(222)\n",
    "ax3 = hist.add_subplot(212)\n",
    "\n",
    "#Set xlim and ylim in subplots\n",
    "ax1.set_ylim([0,50])\n",
    "ax1.set_xlim([-0.2,0.2])\n",
    "\n",
    "ax2.set_ylim([0,50])\n",
    "ax2.set_xlim([-0.5,0.5])\n",
    "\n",
    "ax3.set_ylim([0,50])\n",
    "ax3.set_xlim([-0.5,0.5])\n",
    "\n",
    "#Fitting a normal distribution to data of log return of each coin\n",
    "mu = [0,0,0]\n",
    "std = [0,0,0]\n",
    "for i in currency:\n",
    "    mu[currency.index(i)], std[currency.index(i)] = norm.fit(df_drop['RET_' + str(i)])\n",
    "\n",
    "x1 = np.linspace(-0.2, 0.2,500)\n",
    "p1 = norm.pdf(x1,mu[0],std[0])\n",
    "    \n",
    "x2 = np.linspace(-0.5, 0.5,500)\n",
    "p2 = norm.pdf(x1,mu[1],std[1])\n",
    "\n",
    "x3 = np.linspace(-0.5, 0.5,500)\n",
    "p3 = norm.pdf(x1,mu[2],std[2])\n",
    "\n",
    "#Plotting histogram and its fitted normal distribution density\n",
    "numbins = 500\n",
    "ax1.hist(df_drop['RET_BTC'], numbins, alpha = 0.8, color = 'green')\n",
    "ax1.plot(x1,p1,'k',linewidth = 1)\n",
    "ax1.set_title('RET_BTC',fontsize=8)\n",
    "\n",
    "ax2.hist(df_drop['RET_ETH'], numbins, alpha = 0.8, color = 'green')\n",
    "ax2.plot(x2,p2,'k',linewidth = 1)\n",
    "ax2.set_title('RET_ETH',fontsize=8)\n",
    "\n",
    "ax3.hist(df_drop['RET_XRP'], numbins, alpha = 0.8, color = 'green')\n",
    "ax3.plot(x3,p3,'k',linewidth = 1)\n",
    "ax3.set_title('RET_XRP',fontsize=8)\n",
    "\n",
    "plt.tight_layout()\n",
    "plt.subplots_adjust(top=0.8)\n",
    "\n",
    "plt.show()"
   ]
  },
  {
   "cell_type": "markdown",
   "metadata": {},
   "source": [
    "# PART 4 - CONSTRUCTURING THE SADF AND GSADF TEST"
   ]
  },
  {
   "cell_type": "markdown",
   "metadata": {},
   "source": [
    "This part is devoted to implement the SADF test which is proposed by Phillips, Wu and Yu (2011).\n",
    "\n",
    "First of all, ADFlag function is built to calculated under the Right-tailed Augmented Dickey Fuller test with number of lag observation (as adflag in the function). This function is implemented base on the MATLAB-code provided by Shu Ping Shi work (which is available here 'https://sites.google.com/site/shupingshi/home/codes?authuser=0').\n",
    "\n",
    "In this function, I has simplified the original function while ignoring variable of IC (choosing IC = 0 and do not employ AIC and BIC criteria in calculating ADF statistics)"
   ]
  },
  {
   "cell_type": "code",
   "execution_count": 42,
   "metadata": {},
   "outputs": [],
   "source": [
    "from pandas import tseries\n",
    "import math"
   ]
  },
  {
   "cell_type": "markdown",
   "metadata": {},
   "source": [
    "## ADFlag function\n"
   ]
  },
  {
   "cell_type": "code",
   "execution_count": 43,
   "metadata": {},
   "outputs": [],
   "source": [
    "def ADF(y, adflag):\n",
    "    dy = np.diff(y)\n",
    "    T1 = dy.shape[0]\n",
    "    x1 = np.c_[np.array(y)[:T1], np.ones(T1)]\n",
    "    T = T1 - adflag\n",
    "    dof = T - 2\n",
    "    \n",
    "    ADF = np.zeros(adflag+1)\n",
    "        \n",
    "        \n",
    "    #Model specification\n",
    "    xx = x1[adflag:T1, :] #from k+1 to the end (including y1 and x)\n",
    "    dy01 = dy[adflag:T1] #from k+1 to the end (including dy0)\n",
    "        \n",
    "    if adflag > 0:\n",
    "        x2 = np.c_[xx, dy[:T1-1].reshape(-1, 1)]            \n",
    "    else:\n",
    "        x2 = xx\n",
    "        \n",
    "            \n",
    "    #OLS regression\n",
    "    beta = np.dot(np.linalg.inv(np.dot(x2.T, x2)), np.dot(x2.T, dy01))\n",
    "    eps = dy01 - x2.dot(beta)\n",
    "        \n",
    "    se = np.dot(eps.T, eps)/dof\n",
    "    sig = np.sqrt(np.diag(se*np.linalg.inv(np.dot(x2.T, x2))))\n",
    "    \n",
    "    ADFlag = beta[1]/sig[1]\n",
    "            \n",
    "    return ADFlag"
   ]
  },
  {
   "cell_type": "markdown",
   "metadata": {},
   "source": [
    "## SADF Test"
   ]
  },
  {
   "cell_type": "code",
   "execution_count": 44,
   "metadata": {},
   "outputs": [],
   "source": [
    "#CONTRUCTURING SADF TEST - PWY TEST (2011)\n",
    "N = len(df_drop['RET_BTC'])\n",
    "\n",
    "#Calculating the optimal window\n",
    "r_window = 0.01 + 1.8/np.sqrt(N)\n",
    "window = np.floor(r_window*N).astype('int')\n",
    "sadfstat_BTC = []\n",
    "sadfstat_ETH = []\n",
    "sadfstat_XRP = []"
   ]
  },
  {
   "cell_type": "code",
   "execution_count": 45,
   "metadata": {},
   "outputs": [],
   "source": [
    "for i in np.arange(window, N):\n",
    "    temp = ADF(df_drop.loc[832:(i+832), 'RET_BTC'],1)\n",
    "    sadfstat_BTC.append(temp)\n",
    "    \n",
    "    SADF_BTC = max(sadfstat_BTC)"
   ]
  },
  {
   "cell_type": "code",
   "execution_count": 46,
   "metadata": {},
   "outputs": [],
   "source": [
    "for i in np.arange(window, N):\n",
    "    temp = ADF(df_drop.loc[832:(i+832), 'RET_ETH'],1)\n",
    "    sadfstat_ETH.append(temp)\n",
    "    \n",
    "    SADF_ETH = max(sadfstat_ETH)"
   ]
  },
  {
   "cell_type": "code",
   "execution_count": 47,
   "metadata": {},
   "outputs": [],
   "source": [
    "for i in np.arange(window, N):\n",
    "    temp = ADF(df_drop.loc[832:(i+832), 'RET_XRP'],1)\n",
    "    sadfstat_XRP.append(temp)\n",
    "\n",
    "    SADF_XRP = max(sadfstat_XRP)"
   ]
  },
  {
   "cell_type": "code",
   "execution_count": 48,
   "metadata": {},
   "outputs": [],
   "source": [
    "Date = df_drop.Date[np.arange(window+832,2017)]\n",
    "\n",
    "#Creating dataframe of SADF statistics\n",
    "df_sadf = pd.DataFrame({'Date':Date, 'SADF_BTC':np.array(sadfstat_BTC),\n",
    "                        'SADF_ETH':np.array(sadfstat_ETH), 'SADF_XRP':np.array(sadfstat_XRP)})\n",
    "\n",
    "#Critical value at 5% of SADF test\n",
    "for n in currency:\n",
    "    df_sadf['CV_' + str(n)] = df_sadf['SADF_' + str(n)].quantile(0.95)*np.ones(len(df_sadf.Date))\n",
    "    "
   ]
  },
  {
   "cell_type": "code",
   "execution_count": 49,
   "metadata": {},
   "outputs": [
    {
     "data": {
      "text/html": [
       "<div>\n",
       "<style scoped>\n",
       "    .dataframe tbody tr th:only-of-type {\n",
       "        vertical-align: middle;\n",
       "    }\n",
       "\n",
       "    .dataframe tbody tr th {\n",
       "        vertical-align: top;\n",
       "    }\n",
       "\n",
       "    .dataframe thead th {\n",
       "        text-align: right;\n",
       "    }\n",
       "</style>\n",
       "<table border=\"1\" class=\"dataframe\">\n",
       "  <thead>\n",
       "    <tr style=\"text-align: right;\">\n",
       "      <th></th>\n",
       "      <th>Date</th>\n",
       "      <th>SADF_BTC</th>\n",
       "      <th>SADF_ETH</th>\n",
       "      <th>SADF_XRP</th>\n",
       "      <th>CV_BTC</th>\n",
       "      <th>CV_ETH</th>\n",
       "      <th>CV_XRP</th>\n",
       "    </tr>\n",
       "  </thead>\n",
       "  <tbody>\n",
       "    <tr>\n",
       "      <th>905</th>\n",
       "      <td>2015-10-20</td>\n",
       "      <td>0.031307</td>\n",
       "      <td>-0.465606</td>\n",
       "      <td>-1.975158</td>\n",
       "      <td>3.393515</td>\n",
       "      <td>2.956153</td>\n",
       "      <td>1.721161</td>\n",
       "    </tr>\n",
       "    <tr>\n",
       "      <th>906</th>\n",
       "      <td>2015-10-21</td>\n",
       "      <td>0.011389</td>\n",
       "      <td>-0.409911</td>\n",
       "      <td>-2.012440</td>\n",
       "      <td>3.393515</td>\n",
       "      <td>2.956153</td>\n",
       "      <td>1.721161</td>\n",
       "    </tr>\n",
       "    <tr>\n",
       "      <th>907</th>\n",
       "      <td>2015-10-22</td>\n",
       "      <td>0.126488</td>\n",
       "      <td>-0.154355</td>\n",
       "      <td>-2.002927</td>\n",
       "      <td>3.393515</td>\n",
       "      <td>2.956153</td>\n",
       "      <td>1.721161</td>\n",
       "    </tr>\n",
       "    <tr>\n",
       "      <th>908</th>\n",
       "      <td>2015-10-23</td>\n",
       "      <td>0.181402</td>\n",
       "      <td>-0.271679</td>\n",
       "      <td>-2.029473</td>\n",
       "      <td>3.393515</td>\n",
       "      <td>2.956153</td>\n",
       "      <td>1.721161</td>\n",
       "    </tr>\n",
       "    <tr>\n",
       "      <th>909</th>\n",
       "      <td>2015-10-24</td>\n",
       "      <td>0.277237</td>\n",
       "      <td>-0.198680</td>\n",
       "      <td>-2.042214</td>\n",
       "      <td>3.393515</td>\n",
       "      <td>2.956153</td>\n",
       "      <td>1.721161</td>\n",
       "    </tr>\n",
       "  </tbody>\n",
       "</table>\n",
       "</div>"
      ],
      "text/plain": [
       "          Date  SADF_BTC  SADF_ETH  SADF_XRP    CV_BTC    CV_ETH    CV_XRP\n",
       "905 2015-10-20  0.031307 -0.465606 -1.975158  3.393515  2.956153  1.721161\n",
       "906 2015-10-21  0.011389 -0.409911 -2.012440  3.393515  2.956153  1.721161\n",
       "907 2015-10-22  0.126488 -0.154355 -2.002927  3.393515  2.956153  1.721161\n",
       "908 2015-10-23  0.181402 -0.271679 -2.029473  3.393515  2.956153  1.721161\n",
       "909 2015-10-24  0.277237 -0.198680 -2.042214  3.393515  2.956153  1.721161"
      ]
     },
     "execution_count": 49,
     "metadata": {},
     "output_type": "execute_result"
    }
   ],
   "source": [
    "df_sadf.head()"
   ]
  },
  {
   "cell_type": "code",
   "execution_count": 50,
   "metadata": {},
   "outputs": [
    {
     "data": {
      "text/html": [
       "<div>\n",
       "<style scoped>\n",
       "    .dataframe tbody tr th:only-of-type {\n",
       "        vertical-align: middle;\n",
       "    }\n",
       "\n",
       "    .dataframe tbody tr th {\n",
       "        vertical-align: top;\n",
       "    }\n",
       "\n",
       "    .dataframe thead th {\n",
       "        text-align: right;\n",
       "    }\n",
       "</style>\n",
       "<table border=\"1\" class=\"dataframe\">\n",
       "  <thead>\n",
       "    <tr style=\"text-align: right;\">\n",
       "      <th></th>\n",
       "      <th>SADF_BTC</th>\n",
       "      <th>SADF_ETH</th>\n",
       "      <th>SADF_XRP</th>\n",
       "      <th>CV_BTC</th>\n",
       "      <th>CV_ETH</th>\n",
       "      <th>CV_XRP</th>\n",
       "    </tr>\n",
       "    <tr>\n",
       "      <th>Time</th>\n",
       "      <th></th>\n",
       "      <th></th>\n",
       "      <th></th>\n",
       "      <th></th>\n",
       "      <th></th>\n",
       "      <th></th>\n",
       "    </tr>\n",
       "  </thead>\n",
       "  <tbody>\n",
       "    <tr>\n",
       "      <th>2015-10-20</th>\n",
       "      <td>0.031307</td>\n",
       "      <td>-0.465606</td>\n",
       "      <td>-1.975158</td>\n",
       "      <td>3.393515</td>\n",
       "      <td>2.956153</td>\n",
       "      <td>1.721161</td>\n",
       "    </tr>\n",
       "    <tr>\n",
       "      <th>2015-10-21</th>\n",
       "      <td>0.011389</td>\n",
       "      <td>-0.409911</td>\n",
       "      <td>-2.012440</td>\n",
       "      <td>3.393515</td>\n",
       "      <td>2.956153</td>\n",
       "      <td>1.721161</td>\n",
       "    </tr>\n",
       "    <tr>\n",
       "      <th>2015-10-22</th>\n",
       "      <td>0.126488</td>\n",
       "      <td>-0.154355</td>\n",
       "      <td>-2.002927</td>\n",
       "      <td>3.393515</td>\n",
       "      <td>2.956153</td>\n",
       "      <td>1.721161</td>\n",
       "    </tr>\n",
       "    <tr>\n",
       "      <th>2015-10-23</th>\n",
       "      <td>0.181402</td>\n",
       "      <td>-0.271679</td>\n",
       "      <td>-2.029473</td>\n",
       "      <td>3.393515</td>\n",
       "      <td>2.956153</td>\n",
       "      <td>1.721161</td>\n",
       "    </tr>\n",
       "    <tr>\n",
       "      <th>2015-10-24</th>\n",
       "      <td>0.277237</td>\n",
       "      <td>-0.198680</td>\n",
       "      <td>-2.042214</td>\n",
       "      <td>3.393515</td>\n",
       "      <td>2.956153</td>\n",
       "      <td>1.721161</td>\n",
       "    </tr>\n",
       "  </tbody>\n",
       "</table>\n",
       "</div>"
      ],
      "text/plain": [
       "            SADF_BTC  SADF_ETH  SADF_XRP    CV_BTC    CV_ETH    CV_XRP\n",
       "Time                                                                  \n",
       "2015-10-20  0.031307 -0.465606 -1.975158  3.393515  2.956153  1.721161\n",
       "2015-10-21  0.011389 -0.409911 -2.012440  3.393515  2.956153  1.721161\n",
       "2015-10-22  0.126488 -0.154355 -2.002927  3.393515  2.956153  1.721161\n",
       "2015-10-23  0.181402 -0.271679 -2.029473  3.393515  2.956153  1.721161\n",
       "2015-10-24  0.277237 -0.198680 -2.042214  3.393515  2.956153  1.721161"
      ]
     },
     "execution_count": 50,
     "metadata": {},
     "output_type": "execute_result"
    }
   ],
   "source": [
    "#Setting time index in dataframe\n",
    "df_sadf['Time'] = pd.to_datetime(df_sadf['Date'])\n",
    "df_sadf = df_sadf.set_index('Time')\n",
    "df_sadf.drop(['Date'], axis = 1, inplace = True)\n",
    "df_sadf.head()"
   ]
  },
  {
   "cell_type": "code",
   "execution_count": 51,
   "metadata": {},
   "outputs": [],
   "source": [
    "#Setting time index in dataframe\n",
    "#df_drop['Time'] = pd.to_datetime(df_drop['Date'])\n",
    "#df_drop = df_drop.set_index('Time')\n",
    "#df_drop.drop(['Date'], axis = 1, inplace = True)"
   ]
  },
  {
   "cell_type": "code",
   "execution_count": 52,
   "metadata": {},
   "outputs": [
    {
     "data": {
      "image/png": "[encoded data removed]",
      "text/plain": [
       "<Figure size 1440x576 with 1 Axes>"
      ]
     },
     "metadata": {},
     "output_type": "display_data"
    }
   ],
   "source": [
    "sadf = plt.figure(figsize=(20,8))\n",
    "plt.xlabel('SADF test in BTC')\n",
    "\n",
    "ax1 = df_drop.Close_BTC.plot(color='blue', grid=True, label='Close_BTC')\n",
    "#ax2 = df_drop.Close_ETH.plot(color='red', grid=True, label='Close_ETH')\n",
    "#ax3 = df_drop.Close_XRP.plot(color='black', grid=True, label='Close_XRP')\n",
    "\n",
    "#h1, l1 = ax1.get_legend_handles_labels()\n",
    "h2, l2 = ax2.get_legend_handles_labels()\n",
    "#h3, l3 = ax3.get_legend_handles_labels()\n",
    "\n",
    "\n",
    "\n",
    "#plt.legend( l1+l2+l3, loc=2)\n",
    "plt.show()"
   ]
  },
  {
   "cell_type": "code",
   "execution_count": 53,
   "metadata": {},
   "outputs": [
    {
     "data": {
      "image/png": "[encoded data removed]",
      "text/plain": [
       "<Figure size 1440x720 with 2 Axes>"
      ]
     },
     "metadata": {},
     "output_type": "display_data"
    }
   ],
   "source": [
    "sadf = plt.figure(figsize=(20,10))\n",
    "plt.xlabel('SADF test in BTC')\n",
    "\n",
    "ax1 = df_sadf.SADF_BTC.plot(color='blue', grid=True, label='SADF_BTC')\n",
    "ax2 = df_sadf.CV_BTC.plot(color='red', grid=True, secondary_y=True, label='CV_BTC')\n",
    "\n",
    "h1, l1 = ax1.get_legend_handles_labels()\n",
    "h2, l2 = ax2.get_legend_handles_labels()\n",
    "\n",
    "\n",
    "plt.legend(h1+h2, l1+l2, loc=2)\n",
    "plt.show()"
   ]
  },
  {
   "cell_type": "code",
   "execution_count": 54,
   "metadata": {},
   "outputs": [
    {
     "data": {
      "image/png": "[encoded data removed]",
      "text/plain": [
       "<Figure size 1440x720 with 2 Axes>"
      ]
     },
     "metadata": {},
     "output_type": "display_data"
    }
   ],
   "source": [
    "sadf = plt.figure(figsize=(20,10))\n",
    "plt.xlabel('SADF test in BTC')\n",
    "\n",
    "ax1 = df_sadf.SADF_ETH.plot(color='blue', grid=True, label='SADF_ETH')\n",
    "ax2 = df_sadf.CV_ETH.plot(color='red', grid=True, secondary_y=True, label='CV_ETH')\n",
    "\n",
    "h1, l1 = ax1.get_legend_handles_labels()\n",
    "h2, l2 = ax2.get_legend_handles_labels()\n",
    "\n",
    "\n",
    "plt.legend(h1+h2, l1+l2, loc=2)\n",
    "plt.show()"
   ]
  },
  {
   "cell_type": "code",
   "execution_count": 55,
   "metadata": {},
   "outputs": [
    {
     "data": {
      "image/png": "[encoded data removed]",
      "text/plain": [
       "<Figure size 1440x720 with 2 Axes>"
      ]
     },
     "metadata": {},
     "output_type": "display_data"
    }
   ],
   "source": [
    "sadf = plt.figure(figsize=(20,10))\n",
    "plt.xlabel('SADF test in BTC')\n",
    "\n",
    "ax1 = df_sadf.SADF_XRP.plot(color='blue', grid=True, label='SADF_XRP')\n",
    "ax2 = df_sadf.CV_XRP.plot(color='red', grid=True, secondary_y=True, label='CV_XRP')\n",
    "\n",
    "h1, l1 = ax1.get_legend_handles_labels()\n",
    "h2, l2 = ax2.get_legend_handles_labels()\n",
    "\n",
    "\n",
    "plt.legend(h1+h2, l1+l2, loc=2)\n",
    "plt.show()"
   ]
  },
  {
   "cell_type": "markdown",
   "metadata": {},
   "source": [
    "## GSADF TEST"
   ]
  },
  {
   "cell_type": "markdown",
   "metadata": {},
   "source": [
    "Generalized Sup ADF test (hereafter PSY test or PSY method) was developed in the study of Phillips, Shi and Yu (2013) in detecting the exuberance episodes in historical data of S&P500 ranging from January 1871 to December 2010. This method was improved based on its precedessor (PWY test - SADF test) by employing the ex-ante procedure in dating algorithm (expanding more subsamples by changing the initial point of each repeated sequential window). This explained why PSY method outperforms than the previous one in detecting multiple bubbles and delivering a more consistent bursting timing.\n",
    "\n",
    "The following part is devoted to develop the PSY method. Before implementing the GSADF test, optimal window is calculated as the previous PWY method and the GSADF test is built based on the ADFlag statistics (as constructed in previous part (Part 4))"
   ]
  },
  {
   "cell_type": "code",
   "execution_count": 56,
   "metadata": {},
   "outputs": [],
   "source": [
    "#CONTRUCTURING GSADF TEST - PSY TEST (2013)\n",
    "N = 832 + len(df_drop['RET_BTC']) \n",
    "\n",
    "#Calculating the optimal window\n",
    "r_window = 0.01 + 1.8/np.sqrt(N)\n",
    "window = np.floor(r_window*N).astype('int')\n",
    "\n",
    "gsadfstat_BTC = []\n",
    "gsadfstat_ETH = []\n",
    "gsadfstat_XRP = []\n",
    "        "
   ]
  },
  {
   "cell_type": "markdown",
   "metadata": {},
   "source": [
    "### GSADF Test with Log return of BTC"
   ]
  },
  {
   "cell_type": "code",
   "execution_count": 59,
   "metadata": {},
   "outputs": [],
   "source": [
    "#GSADF TEST (PSY test - 2013)\n",
    "for r2 in np.arange((832 + window), N):\n",
    "    for r1 in np.arange(832, (r2 - window + 1)):\n",
    "        psy_stat_BTC = []\n",
    "        temp = ADF(df_drop.loc[r1:r2, 'RET_BTC'],1)\n",
    "        psy_stat_BTC.append(temp)\n",
    "    \n",
    "    gsadfstat_BTC.append(max(psy_stat_BTC)) #Sequence of the SADF statistics in each window\n",
    "\n",
    "#GSADF Statistics        \n",
    "GSADF_BTC = max(gsadfstat_BTC) "
   ]
  },
  {
   "cell_type": "markdown",
   "metadata": {},
   "source": [
    "### GSADF Test with Log return of ETH"
   ]
  },
  {
   "cell_type": "code",
   "execution_count": 63,
   "metadata": {},
   "outputs": [],
   "source": [
    "#GSADF TEST (PSY test - 2013)\n",
    "for r2 in np.arange((832 + window), N):\n",
    "    for r1 in np.arange(832, (r2 - window + 1)):\n",
    "        psy_stat_ETH = []\n",
    "        temp = ADF(df_drop.loc[r1:r2, 'RET_ETH'],1)\n",
    "        psy_stat_ETH.append(temp)\n",
    "    \n",
    "    gsadfstat_ETH.append(max(psy_stat_ETH))\n",
    "        \n",
    "GSADF_ETH = max(gsadfstat_ETH)"
   ]
  },
  {
   "cell_type": "markdown",
   "metadata": {},
   "source": [
    "### GSADF Test with Log return of XRP"
   ]
  },
  {
   "cell_type": "code",
   "execution_count": 64,
   "metadata": {},
   "outputs": [],
   "source": [
    "#GSADF TEST (PSY test - 2013)\n",
    "for r2 in np.arange((832 + window), N):\n",
    "    for r1 in np.arange(832, (r2 - window + 1)):\n",
    "        psy_stat_XRP = []\n",
    "        temp = ADF(df_drop.loc[r1:r2, 'RET_XRP'],1)\n",
    "        psy_stat_XRP.append(temp)\n",
    "    \n",
    "    gsadfstat_XRP.append(max(psy_stat_XRP))\n",
    "        \n",
    "GSADF_XRP = max(gsadfstat_XRP)"
   ]
  },
  {
   "cell_type": "code",
   "execution_count": 66,
   "metadata": {},
   "outputs": [],
   "source": [
    "Date = df_drop.Date[np.arange(window+832,2017)]\n",
    "\n",
    "#Creating dataframe of SADF statistics\n",
    "df_gsadf = pd.DataFrame({'Date':Date, 'GSADF_BTC':np.array(gsadfstat_BTC),\n",
    "                        'GSADF_ETH':np.array(gsadfstat_ETH), 'GSADF_XRP':np.array(gsadfstat_XRP)})\n",
    "\n",
    "#Critical value at 5% of SADF test\n",
    "for n in currency:\n",
    "    df_gsadf['CV_' + str(n)] = df_gsadf['GSADF_' + str(n)].quantile(0.95)*np.ones(len(df_gsadf.Date))"
   ]
  },
  {
   "cell_type": "code",
   "execution_count": 68,
   "metadata": {},
   "outputs": [],
   "source": [
    "#Setting time index in dataframe\n",
    "df_gsadf['Time'] = pd.to_datetime(df_gsadf['Date'])\n",
    "df_gsadf = df_gsadf.set_index('Time')\n",
    "df_gsadf.drop(['Date'], axis = 1, inplace = True)"
   ]
  },
  {
   "cell_type": "code",
   "execution_count": 69,
   "metadata": {},
   "outputs": [
    {
     "data": {
      "image/png": "[encoded data removed]",
      "text/plain": [
       "<Figure size 1440x720 with 2 Axes>"
      ]
     },
     "metadata": {},
     "output_type": "display_data"
    }
   ],
   "source": [
    "gsadf = plt.figure(figsize=(20,10))\n",
    "plt.xlabel('GSADF test in BTC')\n",
    "\n",
    "ax1 = df_gsadf.GSADF_BTC.plot(color='blue', grid=True, label='GSADF_BTC')\n",
    "ax2 = df_gsadf.CV_BTC.plot(color='red', grid=True, secondary_y=True, label='CV_BTC')\n",
    "\n",
    "h1, l1 = ax1.get_legend_handles_labels()\n",
    "h2, l2 = ax2.get_legend_handles_labels()\n",
    "\n",
    "\n",
    "plt.legend(h1+h2, l1+l2, loc=2)\n",
    "plt.show()"
   ]
  },
  {
   "cell_type": "markdown",
   "metadata": {},
   "source": [
    "The final part - VISUAL ANALYSIS\n",
    "\n",
    "Ideas\n",
    "    \n",
    "   Comparing the volume and price movement or the log return (line and barchart)\n",
    "    \n",
    "   Comparing SADF and GSADF test by plotting both test statistics sequence and its critical values (better for highlight the zone of bubble - this is called dating algorithm)\n",
    "    "
   ]
  },
  {
   "cell_type": "code",
   "execution_count": null,
   "metadata": {},
   "outputs": [],
   "source": []
  },
  {
   "cell_type": "code",
   "execution_count": null,
   "metadata": {},
   "outputs": [],
   "source": []
  }
 ],
 "metadata": {
  "kernelspec": {
   "display_name": "Python 3",
   "language": "python",
   "name": "python3"
  },
  "language_info": {
   "codemirror_mode": {
    "name": "ipython",
    "version": 3
   },
   "file_extension": ".py",
   "mimetype": "text/x-python",
   "name": "python",
   "nbconvert_exporter": "python",
   "pygments_lexer": "ipython3",
   "version": "3.6.4"
  }
 },
 "nbformat": 4,
 "nbformat_minor": 2
}
